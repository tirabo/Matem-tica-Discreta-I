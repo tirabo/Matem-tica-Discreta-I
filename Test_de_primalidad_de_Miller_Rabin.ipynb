{
  "nbformat": 4,
  "nbformat_minor": 0,
  "metadata": {
    "colab": {
      "name": "Test de primalidad de Miller Rabin.ipynb",
      "provenance": [],
      "collapsed_sections": [],
      "authorship_tag": "ABX9TyPWqQ43XHfXQTj35bBy1K+m",
      "include_colab_link": true
    },
    "kernelspec": {
      "name": "python3",
      "display_name": "Python 3"
    }
  },
  "cells": [
    {
      "cell_type": "markdown",
      "metadata": {
        "id": "view-in-github",
        "colab_type": "text"
      },
      "source": [
        "<a href=\"https://colab.research.google.com/github/tirabo/Matematica-Discreta-I/blob/master/Test_de_primalidad_de_Miller_Rabin.ipynb\" target=\"_parent\"><img src=\"https://colab.research.google.com/assets/colab-badge.svg\" alt=\"Open In Colab\"/></a>"
      ]
    },
    {
      "cell_type": "markdown",
      "metadata": {
        "id": "DJ5ew2wvQWqk"
      },
      "source": [
        "## Método binario para exponenciacion modular\r\n",
        "\r\n",
        "Ver: [https://es.wikipedia.org/wiki/Exponenciaci%C3%B3n_modular](https://es.wikipedia.org/wiki/Exponenciaci%C3%B3n_modular)\r\n",
        "\r\n",
        "Sean `a, d, n` enteros positivos se desea calcular `a**d % n`\r\n",
        "1.  Se calcula la expresión binaria de $d$. \r\n",
        "Si $d$ en base $2$ es $d_m...d_0$, entonces\r\n",
        "$$d = \\sum_{i=0}^{m} d_i \\cdot  2^i$$\r\n",
        "Entonces\r\n",
        "\\begin{align*}\r\n",
        "a^d &= \\prod_{i=0}^{m} a^{d_i \\cdot 2^i} \\\\ \r\n",
        "             &= \\prod_{i=0}^{m} (a^{2^i})^{d_i}.\r\n",
        "\\end{align*} \r\n",
        "Usando lo anterior podemos calcular `c = a**d % n` recursivamente:\r\n",
        "        c = (a**(2**0))**d_0 % n        (caso base)\r\n",
        "        c = c * (a**(2**i))**d_i % n    (paso i)\r\n",
        "  \r\n",
        "3. El cálculo anterior no produce gran beneficio en la eficiencia de la exponenciación modular, pues `a**(2**i) % n` sigue siendo costoso de calcular. Utilizando la idea de escribir el exponente en base 2 se puede obtener un algoritmo eficiente. La idea para hacer un algoritmo eficiente es la siguiente:\r\n",
        "$$   d = d_0 \\cdot 2 + r  \\quad  \\Rightarrow \\quad  a^d \\equiv (a^2)^{d_0}  a^r \\pmod n \\tag{1}.$$\r\n",
        "Si $a^2 \\equiv a_0 \\pmod n$, obtenemos\r\n",
        "$$   d = d_0 \\cdot 2 + r  \\quad  \\Rightarrow \\quad  a^d \\equiv {a_0}^{d_0}  a^r \\pmod n \\tag{2}.$$ \r\n",
        "Supongamos que queremos calcular $r$ tal que \r\n",
        "$$3^{9} \\equiv r\\; (\\operatorname{mod} 5),$$\r\n",
        "con $0 \\le r < 5$. Esto no es más que calcular\r\n",
        "         3**9 % 5.\r\n",
        "En  este caso, podemos hacer este cálculo en Python directamente, pero mostraremos como es el método para ejemplificar. Lo  que haremos es lo siguiente: como `9 = 2*4 + 1`, tenemos por la fórmula (2) que \r\n",
        "        3**9 % 5 = (3**2)**4 * 3 % 5\r\n",
        "                 =      4**4 * 3 % 5     # 9 % 5 = 4\r\n",
        "                 = (4**2)**2 * 3 % 5\r\n",
        "                 =      1**2 * 3 % 5     # 16 % 5 = 1\r\n",
        "                 = 3 % 5\r\n",
        "Supongamos ahora que queremos calcular \r\n",
        "         5**1125899986842625 % 100000037.\r\n",
        "Hacer este cálculo en Python directamente no nos da un resultado satisfactorio. Haga el intento para  convencerse. Pero  como `1125899986842625 < 2**51`, usando el método de las fórmulas (1) y (2) necesitaremos alrededor de 50 pasos del tipo \r\n",
        "        c = x**2 * 5**r * c % 100000037\r\n",
        "donde `0 <= x, c <= 100000037` y `r = 0, 1`. La clave es que cada uno de estos cálculos se realiza con facilidad en Python. "
      ]
    },
    {
      "cell_type": "markdown",
      "metadata": {
        "id": "eu-P5-lqcNXL"
      },
      "source": [
        "**Ejercicio 1.** Sean `a, d, n` enteros positivos definir la función\r\n",
        "\r\n",
        "        pot_mod(a, d, n) \r\n",
        "\r\n",
        "que devuelve `a**d % n` (`a` a la `d` módulo `n`) usando el  método binario de exponenciación modular."
      ]
    },
    {
      "cell_type": "code",
      "metadata": {
        "id": "FaheGptk2OmX"
      },
      "source": [
        "# Escribir más abajo (la linea punteada debe ser reemplazada por lineas de código)\r\n",
        "\r\n",
        "def pot_mod(a: int, d: int, n: int) -> int:\r\n",
        "    # pre: a, d, n enteros positivos\r\n",
        "    # post: devuelve a**d % n calculado por el método binario de exponenciacion modular\r\n",
        "    ...\r\n"
      ],
      "execution_count": null,
      "outputs": []
    },
    {
      "cell_type": "code",
      "metadata": {
        "id": "3e6EiuEaIQfq"
      },
      "source": [
        "# Tests (los resultados deberían ser casi instantaneos)\r\n",
        "print(pot_mod(2,4,15)) # 1\r\n",
        "print(pot_mod(7, 385, 11)) # 10\r\n",
        "print(pot_mod(5,1125899986842625, 100000037 )) # 98770120\r\n"
      ],
      "execution_count": null,
      "outputs": []
    },
    {
      "cell_type": "markdown",
      "metadata": {
        "id": "VLSyi_zsdjjs"
      },
      "source": [
        "## Test de primalidad de  Miller-Rabin \r\n",
        "\r\n",
        "El test de primalidad Miller-Rabin es una prueba probabilística de primalidad: un algoritmo que determina si un número dado es probable que sea primo.\r\n",
        "\r\n",
        "Este test sigue siendo ampliamente utilizado en la práctica (en RSA, por ejemplo) y es una de las pruebas más simples y rápidas conocidas.\r\n",
        "\r\n",
        "Dado $m$ un entero positivo.\r\n",
        "- Si le hacemos el test a $m$ y no supera la prueba, entonces el número no es primo. \r\n",
        "- Si hacemos $k$ veces el test y $m$ supera las $k$ pruebas, entonces  $m$ tiene la probabilidad $1 - ( 1 / 4^k)$ de ser primo. \r\n",
        "\r\n",
        "Ver: [https://en.wikipedia.org/wiki/Miller%E2%80%93Rabin_primality_test](https://en.wikipedia.org/wiki/Miller%E2%80%93Rabin_primality_test)\r\n",
        "\r\n",
        "**Números probablemente primos**\r\n",
        "\r\n",
        "Sea $n > 2$ un entero impar, entonces $n = 2^s \\cdot d + 1$ con $d$ impar. Sea $a$ entero  tal que $0 < a < n$. En tonces diremos que $n$ es _fuertemente probablemente primo (FPP) respecto a la base_ $a$ si se cumple  \r\n",
        "- $a^{d} \\equiv 1 \\pmod{n}$, o\r\n",
        "- $a^{2^r\\cdot\\, d} \\equiv -1 \\pmod{n}$  para algún $r$ tal que $0 \\le r < s$.\r\n",
        "\r\n",
        "Con la aplicación del teorema de Fermat y la ecuación lineal de congruencia no es difíl probar que todo número primo es FPP respecto a cualquier base. El contrarrecíproco de esta afimación nos dice que un número que no es FPP respecto a alguna base es compuesto.\r\n",
        "\r\n",
        "Ahora bien, un número $n$ que es FPP respecto a todas las bases $ 0 < a < n$ es primo, pero este cáclulo es computacionalmente imposible para primos grandes.  \r\n",
        "\r\n",
        "Por otro lado, un número $n$ que es FPP respecto alguna base $ 0 < a < n$ podría ser compuesto, pero hay una probabilidad mayor que 0.75 de que sea primo. La verificación con diferentes bases de que un número es FPP acerca a 1 la probabilidad de que el número sea primo.  \r\n",
        "\r\n",
        "\r\n",
        "**Algoritmo**\r\n",
        "\r\n",
        "El test  de primalidad de Miller-Rabin se basa en las observaciones realizadas más arriba: sea `n` entero positivo impar entonces, `n = 2**s * d + 1` con `d` impar, y sea `k` entero positivo.  \r\n",
        "1. Elegir al  azar `a` entero tal que `0 < a < n`.\r\n",
        "2. Verificar que  `n` es FPP respecto a la base `a`.\r\n",
        "3. Repetir 1. y 2. `k` veces.\r\n",
        "\r\n",
        "Si `n` es FPP las `k` veces,  entonces decimos que `n` supera el test de primalidad de Miller-Rabin (y lo consideramos primo).  \r\n",
        "\r\n",
        "_Observación ._ El test de primalidad de Miller-Rabín requiere el orden de $k \\cdot m^3$ operaciones, donde $m$ es el tamaño o cantidad de dígitos del número. "
      ]
    },
    {
      "cell_type": "markdown",
      "metadata": {
        "id": "nWkHdfgnosdD"
      },
      "source": [
        "**Ejercicio 2**\r\n",
        "\r\n",
        "1. Escribir la función que determina  si un número `n` es fuertemente probablemente primo respecto a una base `a`.\r\n",
        "2. Escribir el test de primalidad de Miller-Rabin.    "
      ]
    },
    {
      "cell_type": "code",
      "metadata": {
        "id": "kzrfY1P3q6nV"
      },
      "source": [
        "import random\r\n",
        "\r\n",
        "# Escribir más abajo (las lineas punteadas deben ser reemplazadas por lineas de código)\r\n",
        "\r\n",
        "def pot2(n: int):\r\n",
        "  # pre: n > 0, n impar\r\n",
        "  # post: devuelve (s, d) tal n = 2**s * d + 1,  con d impar.\r\n",
        "  ...\r\n",
        "  return (s, d)\r\n",
        "\r\n",
        "def fpp(n, a: int) -> bool:\r\n",
        "  # pre:  n impar, 0 < a < n\r\n",
        "  # post: devuelve True si n = es FPP respecto a a. False en caso contrario\r\n",
        "  (s, d) = pot2(n)\r\n",
        "  ...\r\n",
        "\r\n",
        "def test_Miller_Rabin(n: int, k: int) -> bool:\r\n",
        "  # pre: n > 2, n impar, k > 0\r\n",
        "  # post: si n es FPP k-veces (con base al azar) devuelve True. En  caso  contrario  devuelve False. \r\n",
        "  ..."
      ],
      "execution_count": null,
      "outputs": []
    },
    {
      "cell_type": "markdown",
      "metadata": {
        "id": "d3zCizDj-uQx"
      },
      "source": [
        "_Observación._ Para la definición de `test_Miller_Rabin()` puede usarse  la función `fpp()` `k`-veces aunque esto no sería muy conveniente (¿por qué?). Si lo desea, puede reformular la modularización con funciones auxiliares (lo más elegante) o simplemente reescribir parte del código de `fpp()` dentro de `test_Miller_Rabin()`."
      ]
    },
    {
      "cell_type": "code",
      "metadata": {
        "id": "tPFFWryHskOf"
      },
      "source": [
        "# Tests: si las funciones están bien implementadas lo siguiente debería ser muy rápido. \r\n",
        "\r\n",
        "print(fpp(17, 5)) # True\r\n",
        "print(fpp(3221225473, 53)) # True\r\n",
        "\r\n",
        "primo = True\r\n",
        "for i in range(27):\r\n",
        "  primo = primo and fpp(27, i)\r\n",
        "print(primo) # False\r\n",
        "\r\n",
        "print(test_Miller_Rabin(31, 4)) # True\r\n",
        "print(test_Miller_Rabin(351, 10)) # probablemente False\r\n",
        "print(test_Miller_Rabin(10**8+37, 5)) # True\r\n",
        "print(test_Miller_Rabin(2074722246773485207821695222107608587480996474721117292752992589912196684750549658310084416732550077, 100)) # True\r\n",
        "print(test_Miller_Rabin(323000000000023902000000000442187, 100)) # False (probablemente)\r\n"
      ],
      "execution_count": null,
      "outputs": []
    },
    {
      "cell_type": "markdown",
      "metadata": {
        "id": "6AludOPCc4Vp"
      },
      "source": [
        "## Comentario final\r\n",
        "\r\n",
        "Los primos _grandes_ son muy importantes para el uso en criptografía de clave pública, en particular para el algoritmo RSA. \r\n",
        "\r\n",
        "El objetivo es calcular de manera eficiente números primos aleatorios muy grandes con un tamaño de bit específico. \r\n",
        "\r\n",
        "El método estándar para implementar un generador de números primos aleatorios se da a continuación:\r\n",
        "\r\n",
        "1. Preseleccione un número aleatorio con el tamaño de bits deseado \r\n",
        "2.Asegúrese de que el número elegido no sea divisible por los primeros cientos de números primos (estos están pregenerados)\r\n",
        "3. Aplique un cierto número de iteraciones de la prueba de primalidad de Rabin-Miller. Un número más que aceptable son 100 repeticiones. "
      ]
    }
  ]
}